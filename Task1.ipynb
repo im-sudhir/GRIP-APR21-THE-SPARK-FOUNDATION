{
 "cells": [
  {
   "cell_type": "markdown",
   "metadata": {},
   "source": [
<<<<<<< HEAD
    "# GRIP The Spark Foundation"
   ]
=======
    "## Notebook Author: Sudhir Vishwakarma"
   ],
   "cell_type": "markdown",
   "metadata": {}
>>>>>>> parent of 9499cd3 (Minor fix)
  },
  {
   "cell_type": "markdown",
   "metadata": {},
   "source": [
<<<<<<< HEAD
    "## Notebook Author: Sudhir Vishwakarma"
   ]
=======
    "# GRIP The Spark Foundation"
   ],
   "cell_type": "markdown",
   "metadata": {}
>>>>>>> parent of 9499cd3 (Minor fix)
  },
  {
   "cell_type": "markdown",
   "metadata": {},
   "source": [
    "## Task 1"
   ]
  },
  {
   "cell_type": "markdown",
   "metadata": {},
   "source": [
    "# Predicting Scores of students using machine learning\n",
    "\n",
    "This notebook looks into various Python based machine learning and data science libraries in an attempt to build a machine learing model capable of predicting marks of students based on the number of hours they study.\n",
    "\n",
    "we are going to take following approach:\n",
    "1. Problem Definition\n",
    "2. Data\n",
    "3. Evaluation\n",
    "4. Features\n",
    "5. Modelling\n",
    "6. Experimentation\n"
   ]
  },
  {
   "cell_type": "markdown",
   "metadata": {},
   "source": [
    "## 1. Problem Definition\n",
    "\n",
    "In a statement,\n",
    "     Given hours of study we can predict marks of students or not and what is the percentage of marks achieved by a\n",
    "     student if he study for 9.25 hours a day."
   ]
  },
  {
   "cell_type": "markdown",
   "metadata": {},
   "source": [
    "## 2. Data\n",
    "\n",
    "The data is available at \"https://raw.githubusercontent.com/AdiPersonalWorks/Random/master/student_scores%20-%20student_scores.csv\""
   ]
  },
  {
   "cell_type": "markdown",
   "metadata": {},
   "source": [
    "## 3. Evaluation\n",
    "\n",
    "We want to achieve atleast 90% accuracy in our prediction."
   ]
  },
  {
   "cell_type": "markdown",
   "metadata": {},
   "source": [
    "## 4. Features\n",
    "\n",
    "This dataset has only two features:\n",
    "1. Scores ( Percentage score achieve by a student )\n",
    "2. Hours  ( Number of hours they study )"
   ]
  },
  {
   "cell_type": "markdown",
   "metadata": {},
   "source": [
    "## Importing relevant libraries"
   ]
  },
  {
   "cell_type": "code",
   "execution_count": 1,
   "metadata": {},
   "outputs": [],
   "source": [
    "import pandas as pd\n",
    "import numpy as np\n",
    "import seaborn as sns\n",
    "import matplotlib.pyplot as plt\n",
    "sns.set()\n",
    "%matplotlib inline\n",
    "from sklearn.model_selection import train_test_split, cross_val_score\n",
    "from sklearn.metrics import mean_absolute_error, mean_squared_error, r2_score, accuracy_score\n",
    "from sklearn.linear_model import LinearRegression"
   ]
  },
  {
   "cell_type": "markdown",
   "metadata": {},
   "source": [
    "## Load Data"
   ]
  },
  {
   "cell_type": "code",
   "execution_count": 2,
   "metadata": {},
   "outputs": [
    {
     "data": {
      "text/plain": [
       "(25, 2)"
      ]
     },
     "execution_count": 2,
     "metadata": {},
     "output_type": "execute_result"
    }
   ],
   "source": [
    "df=pd.read_csv(\"https://raw.githubusercontent.com/AdiPersonalWorks/Random/master/student_scores%20-%20student_scores.csv\")\n",
    "df.shape"
   ]
  },
  {
   "cell_type": "markdown",
   "metadata": {},
   "source": [
    "As we can see from data shape that it is a very small dataset. As here are only 25 rows and 2 columns."
   ]
  },
  {
   "cell_type": "code",
   "execution_count": 3,
   "metadata": {},
   "outputs": [
    {
     "data": {
      "text/html": [
       "<div>\n",
       "<style scoped>\n",
       "    .dataframe tbody tr th:only-of-type {\n",
       "        vertical-align: middle;\n",
       "    }\n",
       "\n",
       "    .dataframe tbody tr th {\n",
       "        vertical-align: top;\n",
       "    }\n",
       "\n",
       "    .dataframe thead th {\n",
       "        text-align: right;\n",
       "    }\n",
       "</style>\n",
       "<table border=\"1\" class=\"dataframe\">\n",
       "  <thead>\n",
       "    <tr style=\"text-align: right;\">\n",
       "      <th></th>\n",
       "      <th>Hours</th>\n",
       "      <th>Scores</th>\n",
       "    </tr>\n",
       "  </thead>\n",
       "  <tbody>\n",
       "    <tr>\n",
       "      <th>0</th>\n",
       "      <td>2.5</td>\n",
       "      <td>21</td>\n",
       "    </tr>\n",
       "    <tr>\n",
       "      <th>1</th>\n",
       "      <td>5.1</td>\n",
       "      <td>47</td>\n",
       "    </tr>\n",
       "    <tr>\n",
       "      <th>2</th>\n",
       "      <td>3.2</td>\n",
       "      <td>27</td>\n",
       "    </tr>\n",
       "    <tr>\n",
       "      <th>3</th>\n",
       "      <td>8.5</td>\n",
       "      <td>75</td>\n",
       "    </tr>\n",
       "    <tr>\n",
       "      <th>4</th>\n",
       "      <td>3.5</td>\n",
       "      <td>30</td>\n",
       "    </tr>\n",
       "  </tbody>\n",
       "</table>\n",
       "</div>"
      ],
      "text/plain": [
       "   Hours  Scores\n",
       "0    2.5      21\n",
       "1    5.1      47\n",
       "2    3.2      27\n",
       "3    8.5      75\n",
       "4    3.5      30"
      ]
     },
     "execution_count": 3,
     "metadata": {},
     "output_type": "execute_result"
    }
   ],
   "source": [
    "df.head()"
   ]
  },
  {
   "cell_type": "code",
   "execution_count": 4,
   "metadata": {},
   "outputs": [
    {
     "name": "stdout",
     "output_type": "stream",
     "text": [
      "<class 'pandas.core.frame.DataFrame'>\n",
      "RangeIndex: 25 entries, 0 to 24\n",
      "Data columns (total 2 columns):\n",
      " #   Column  Non-Null Count  Dtype  \n",
      "---  ------  --------------  -----  \n",
      " 0   Hours   25 non-null     float64\n",
      " 1   Scores  25 non-null     int64  \n",
      "dtypes: float64(1), int64(1)\n",
      "memory usage: 528.0 bytes\n"
     ]
    }
   ],
   "source": [
    "df.info()"
   ]
  },
  {
   "cell_type": "markdown",
   "metadata": {},
   "source": [
    "As we can see there is no null values found and all datatype is in numerical format that means we can do further process on our dataset."
   ]
  },
  {
   "cell_type": "code",
   "execution_count": 5,
   "metadata": {},
   "outputs": [
    {
     "data": {
      "text/html": [
       "<div>\n",
       "<style scoped>\n",
       "    .dataframe tbody tr th:only-of-type {\n",
       "        vertical-align: middle;\n",
       "    }\n",
       "\n",
       "    .dataframe tbody tr th {\n",
       "        vertical-align: top;\n",
       "    }\n",
       "\n",
       "    .dataframe thead th {\n",
       "        text-align: right;\n",
       "    }\n",
       "</style>\n",
       "<table border=\"1\" class=\"dataframe\">\n",
       "  <thead>\n",
       "    <tr style=\"text-align: right;\">\n",
       "      <th></th>\n",
       "      <th>Hours</th>\n",
       "      <th>Scores</th>\n",
       "    </tr>\n",
       "  </thead>\n",
       "  <tbody>\n",
       "    <tr>\n",
       "      <th>count</th>\n",
       "      <td>25.000000</td>\n",
       "      <td>25.000000</td>\n",
       "    </tr>\n",
       "    <tr>\n",
       "      <th>mean</th>\n",
       "      <td>5.012000</td>\n",
       "      <td>51.480000</td>\n",
       "    </tr>\n",
       "    <tr>\n",
       "      <th>std</th>\n",
       "      <td>2.525094</td>\n",
       "      <td>25.286887</td>\n",
       "    </tr>\n",
       "    <tr>\n",
       "      <th>min</th>\n",
       "      <td>1.100000</td>\n",
       "      <td>17.000000</td>\n",
       "    </tr>\n",
       "    <tr>\n",
       "      <th>25%</th>\n",
       "      <td>2.700000</td>\n",
       "      <td>30.000000</td>\n",
       "    </tr>\n",
       "    <tr>\n",
       "      <th>50%</th>\n",
       "      <td>4.800000</td>\n",
       "      <td>47.000000</td>\n",
       "    </tr>\n",
       "    <tr>\n",
       "      <th>75%</th>\n",
       "      <td>7.400000</td>\n",
       "      <td>75.000000</td>\n",
       "    </tr>\n",
       "    <tr>\n",
       "      <th>max</th>\n",
       "      <td>9.200000</td>\n",
       "      <td>95.000000</td>\n",
       "    </tr>\n",
       "  </tbody>\n",
       "</table>\n",
       "</div>"
      ],
      "text/plain": [
       "           Hours     Scores\n",
       "count  25.000000  25.000000\n",
       "mean    5.012000  51.480000\n",
       "std     2.525094  25.286887\n",
       "min     1.100000  17.000000\n",
       "25%     2.700000  30.000000\n",
       "50%     4.800000  47.000000\n",
       "75%     7.400000  75.000000\n",
       "max     9.200000  95.000000"
      ]
     },
     "execution_count": 5,
     "metadata": {},
     "output_type": "execute_result"
    }
   ],
   "source": [
    "df.describe()"
   ]
  },
  {
   "cell_type": "markdown",
   "metadata": {},
   "source": [
    "### Exploratory Data Analysis (EDA)\n"
   ]
  },
  {
   "cell_type": "code",
   "execution_count": 6,
   "metadata": {},
   "outputs": [
    {
     "data": {
      "text/plain": [
       "Hours        AxesSubplot(0.125,0.125;0.352273x0.755)\n",
       "Scores    AxesSubplot(0.547727,0.125;0.352273x0.755)\n",
       "dtype: object"
      ]
     },
     "execution_count": 6,
     "metadata": {},
     "output_type": "execute_result"
    },
    {
     "data": {
      "image/png": "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\n",
      "text/plain": [
       "<Figure size 432x288 with 2 Axes>"
      ]
     },
     "metadata": {
      "needs_background": "light"
     },
     "output_type": "display_data"
    }
   ],
   "source": [
    "df.plot(kind='box',subplots=True)"
   ]
  },
  {
   "cell_type": "markdown",
   "metadata": {},
   "source": [
    "As we can see from visualisation that there are no outlier present in the dataset."
   ]
  },
  {
   "cell_type": "markdown",
   "metadata": {},
   "source": [
    "### Plotting KDE to find out the skewness of attributes"
   ]
  },
  {
   "cell_type": "code",
   "execution_count": 7,
   "metadata": {},
   "outputs": [
    {
     "data": {
      "text/plain": [
       "<AxesSubplot:xlabel='Scores', ylabel='Density'>"
      ]
     },
     "execution_count": 7,
     "metadata": {},
     "output_type": "execute_result"
    },
    {
     "data": {
      "image/png": "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\n",
      "text/plain": [
       "<Figure size 432x288 with 1 Axes>"
      ]
     },
     "metadata": {
      "needs_background": "light"
     },
     "output_type": "display_data"
    }
   ],
   "source": [
    "sns.kdeplot(data=df['Scores'])"
   ]
  },
  {
   "cell_type": "code",
   "execution_count": 8,
   "metadata": {},
   "outputs": [
    {
     "data": {
      "text/plain": [
       "<AxesSubplot:xlabel='Hours', ylabel='Density'>"
      ]
     },
     "execution_count": 8,
     "metadata": {},
     "output_type": "execute_result"
    },
    {
     "data": {
      "image/png": "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\n",
      "text/plain": [
       "<Figure size 432x288 with 1 Axes>"
      ]
     },
     "metadata": {
      "needs_background": "light"
     },
     "output_type": "display_data"
    }
   ],
   "source": [
    "sns.kdeplot(data=df['Hours'])"
   ]
  },
  {
   "cell_type": "code",
   "execution_count": 9,
   "metadata": {},
   "outputs": [
    {
     "data": {
      "text/plain": [
       "Hours     0.190338\n",
       "Scores    0.233965\n",
       "dtype: float64"
      ]
     },
     "execution_count": 9,
     "metadata": {},
     "output_type": "execute_result"
    }
   ],
   "source": [
    "df.skew(axis=0)"
   ]
  },
  {
   "cell_type": "markdown",
   "metadata": {},
   "source": [
    "We can see from visualisation that the data is slightly skewed to right and skewness value is very low so we can neglect it."
   ]
  },
  {
   "cell_type": "markdown",
   "metadata": {},
   "source": [
    "## Plotting a Scatter Plot to see the distribution of data "
   ]
  },
  {
   "cell_type": "code",
   "execution_count": 10,
   "metadata": {},
   "outputs": [
    {
     "data": {
      "text/plain": [
       "Text(0, 0.5, 'Percentage Score ( Scores )')"
      ]
     },
     "execution_count": 10,
     "metadata": {},
     "output_type": "execute_result"
    },
    {
     "data": {
      "image/png": "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\n",
      "text/plain": [
       "<Figure size 432x288 with 1 Axes>"
      ]
     },
     "metadata": {
      "needs_background": "light"
     },
     "output_type": "display_data"
    }
   ],
   "source": [
    "sns.scatterplot(data=df,x='Hours',y='Scores')\n",
    "plt.title('Plot with reference to Hours and Scores',fontsize=20)\n",
    "plt.xlabel('Number of hours ( Hours )')\n",
    "plt.ylabel('Percentage Score ( Scores )')"
   ]
  },
  {
   "cell_type": "markdown",
   "metadata": {},
   "source": [
    "As we can see from visualisation that there is positive relation between the hours and scores."
   ]
  },
  {
   "cell_type": "markdown",
   "metadata": {},
   "source": [
    "## 5. Modelling"
   ]
  },
  {
   "cell_type": "code",
   "execution_count": 11,
   "metadata": {},
   "outputs": [
    {
     "data": {
      "text/html": [
       "<div>\n",
       "<style scoped>\n",
       "    .dataframe tbody tr th:only-of-type {\n",
       "        vertical-align: middle;\n",
       "    }\n",
       "\n",
       "    .dataframe tbody tr th {\n",
       "        vertical-align: top;\n",
       "    }\n",
       "\n",
       "    .dataframe thead th {\n",
       "        text-align: right;\n",
       "    }\n",
       "</style>\n",
       "<table border=\"1\" class=\"dataframe\">\n",
       "  <thead>\n",
       "    <tr style=\"text-align: right;\">\n",
       "      <th></th>\n",
       "      <th>Hours</th>\n",
       "      <th>Scores</th>\n",
       "    </tr>\n",
       "  </thead>\n",
       "  <tbody>\n",
       "    <tr>\n",
       "      <th>0</th>\n",
       "      <td>2.5</td>\n",
       "      <td>21</td>\n",
       "    </tr>\n",
       "    <tr>\n",
       "      <th>1</th>\n",
       "      <td>5.1</td>\n",
       "      <td>47</td>\n",
       "    </tr>\n",
       "    <tr>\n",
       "      <th>2</th>\n",
       "      <td>3.2</td>\n",
       "      <td>27</td>\n",
       "    </tr>\n",
       "    <tr>\n",
       "      <th>3</th>\n",
       "      <td>8.5</td>\n",
       "      <td>75</td>\n",
       "    </tr>\n",
       "    <tr>\n",
       "      <th>4</th>\n",
       "      <td>3.5</td>\n",
       "      <td>30</td>\n",
       "    </tr>\n",
       "  </tbody>\n",
       "</table>\n",
       "</div>"
      ],
      "text/plain": [
       "   Hours  Scores\n",
       "0    2.5      21\n",
       "1    5.1      47\n",
       "2    3.2      27\n",
       "3    8.5      75\n",
       "4    3.5      30"
      ]
     },
     "execution_count": 11,
     "metadata": {},
     "output_type": "execute_result"
    }
   ],
   "source": [
    "df.head()"
   ]
  },
  {
   "cell_type": "code",
   "execution_count": 12,
   "metadata": {},
   "outputs": [],
   "source": [
    "# Split data into X and y\n",
    "X=df.iloc[:, :-1].values  \n",
    "y = df.iloc[:, 1].values  \n",
    "# X=df[['Hours']]\n",
    "# y=df[['Scores']]"
   ]
  },
  {
   "cell_type": "code",
   "execution_count": 13,
   "metadata": {},
   "outputs": [
    {
     "data": {
      "text/plain": [
       "(array([[2.5],\n",
       "        [5.1],\n",
       "        [3.2],\n",
       "        [8.5],\n",
       "        [3.5],\n",
       "        [1.5],\n",
       "        [9.2],\n",
       "        [5.5],\n",
       "        [8.3],\n",
       "        [2.7],\n",
       "        [7.7],\n",
       "        [5.9],\n",
       "        [4.5],\n",
       "        [3.3],\n",
       "        [1.1],\n",
       "        [8.9],\n",
       "        [2.5],\n",
       "        [1.9],\n",
       "        [6.1],\n",
       "        [7.4],\n",
       "        [2.7],\n",
       "        [4.8],\n",
       "        [3.8],\n",
       "        [6.9],\n",
       "        [7.8]]),\n",
       " array([21, 47, 27, 75, 30, 20, 88, 60, 81, 25, 85, 62, 41, 42, 17, 95, 30,\n",
       "        24, 67, 69, 30, 54, 35, 76, 86], dtype=int64))"
      ]
     },
     "execution_count": 13,
     "metadata": {},
     "output_type": "execute_result"
    }
   ],
   "source": [
    "X,y"
   ]
  },
  {
   "cell_type": "code",
   "execution_count": 14,
   "metadata": {},
   "outputs": [],
   "source": [
    "np.random.seed(42)\n",
    "\n",
    "# Split data into train and test sets\n",
    "\n",
    "X_train,X_test,y_train,y_test=train_test_split(X,\n",
    "                                              y,\n",
    "                                              test_size=0.2)"
   ]
  },
  {
   "cell_type": "code",
   "execution_count": 15,
   "metadata": {},
   "outputs": [
    {
     "data": {
      "text/plain": [
       "(array([[2.7],\n",
       "        [3.3],\n",
       "        [5.1],\n",
       "        [3.8],\n",
       "        [1.5],\n",
       "        [3.2],\n",
       "        [4.5],\n",
       "        [8.9],\n",
       "        [8.5],\n",
       "        [3.5],\n",
       "        [2.7],\n",
       "        [1.9],\n",
       "        [4.8],\n",
       "        [6.1],\n",
       "        [7.8],\n",
       "        [5.5],\n",
       "        [7.7],\n",
       "        [1.1],\n",
       "        [7.4],\n",
       "        [9.2]]),\n",
       " 20)"
      ]
     },
     "execution_count": 15,
     "metadata": {},
     "output_type": "execute_result"
    }
   ],
   "source": [
    "X_train,len(X_train)"
   ]
  },
  {
   "cell_type": "code",
   "execution_count": 16,
   "metadata": {},
   "outputs": [
    {
     "data": {
      "text/plain": [
       "(array([25, 42, 47, 35, 20, 27, 41, 95, 75, 30, 30, 24, 54, 67, 86, 60, 85,\n",
       "        17, 69, 88], dtype=int64),\n",
       " 20)"
      ]
     },
     "execution_count": 16,
     "metadata": {},
     "output_type": "execute_result"
    }
   ],
   "source": [
    "y_train,len(y_train)"
   ]
  },
  {
   "cell_type": "markdown",
   "metadata": {},
   "source": [
    "Now we got our data split into training and test set it's time to build a machine learning model.\n",
    "\n",
    "We'll train it (find the pattern) on the training set.\n",
    "\n",
    "And we'll test it(use the pattern) on the test set\n",
    "\n",
    "As it is small linear dataset we will use LinearRegression machine learning model."
   ]
  },
  {
   "cell_type": "code",
   "execution_count": 17,
   "metadata": {},
   "outputs": [],
   "source": [
    "model=LinearRegression()"
   ]
  },
  {
   "cell_type": "code",
   "execution_count": 18,
   "metadata": {},
   "outputs": [
    {
     "name": "stdout",
     "output_type": "stream",
     "text": [
      "Training of the algorithm is complete.\n"
     ]
    }
   ],
   "source": [
    "model.fit(X_train,y_train)\n",
    "\n",
    "print('Training of the algorithm is complete.')"
   ]
  },
  {
   "cell_type": "markdown",
   "metadata": {},
   "source": [
    "### Plotting the regression line"
   ]
  },
  {
   "cell_type": "code",
   "execution_count": 19,
   "metadata": {},
   "outputs": [
    {
     "data": {
      "text/plain": [
       "<AxesSubplot:xlabel='Hours', ylabel='Scores'>"
      ]
     },
     "execution_count": 19,
     "metadata": {},
     "output_type": "execute_result"
    },
    {
     "data": {
      "image/png": "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\n",
      "text/plain": [
       "<Figure size 432x288 with 1 Axes>"
      ]
     },
     "metadata": {
      "needs_background": "light"
     },
     "output_type": "display_data"
    }
   ],
   "source": [
    "sns.regplot(data=df,x='Hours',y='Scores')"
   ]
  },
  {
   "cell_type": "markdown",
   "metadata": {},
   "source": [
    "### Making Predictions"
   ]
  },
  {
   "cell_type": "code",
   "execution_count": 20,
   "metadata": {},
   "outputs": [
    {
     "name": "stdout",
     "output_type": "stream",
     "text": [
      "0.9678055545167994\n"
     ]
    }
   ],
   "source": [
    "# Fitting model on test data and seeing its score on test data\n",
    "\n",
    "model.fit(X_train,y_train)\n",
    "print(model.score(X_test,y_test))"
   ]
  },
  {
   "cell_type": "markdown",
   "metadata": {},
   "source": [
    "As we can see that model is 96% Accurate So now we predict values using it and see the results."
   ]
  },
  {
   "cell_type": "code",
   "execution_count": 21,
   "metadata": {},
   "outputs": [
    {
     "name": "stdout",
     "output_type": "stream",
     "text": [
      "[[8.3]\n",
      " [2.5]\n",
      " [2.5]\n",
      " [6.9]\n",
      " [5.9]]\n"
     ]
    }
   ],
   "source": [
    "print(X_test)\n",
    "y_pred=model.predict(X_test)"
   ]
  },
  {
   "cell_type": "code",
   "execution_count": 22,
   "metadata": {},
   "outputs": [
    {
     "data": {
      "text/html": [
       "<div>\n",
       "<style scoped>\n",
       "    .dataframe tbody tr th:only-of-type {\n",
       "        vertical-align: middle;\n",
       "    }\n",
       "\n",
       "    .dataframe tbody tr th {\n",
       "        vertical-align: top;\n",
       "    }\n",
       "\n",
       "    .dataframe thead th {\n",
       "        text-align: right;\n",
       "    }\n",
       "</style>\n",
       "<table border=\"1\" class=\"dataframe\">\n",
       "  <thead>\n",
       "    <tr style=\"text-align: right;\">\n",
       "      <th></th>\n",
       "      <th>Actual</th>\n",
       "      <th>Predicted</th>\n",
       "    </tr>\n",
       "  </thead>\n",
       "  <tbody>\n",
       "    <tr>\n",
       "      <th>0</th>\n",
       "      <td>81</td>\n",
       "      <td>83.188141</td>\n",
       "    </tr>\n",
       "    <tr>\n",
       "      <th>1</th>\n",
       "      <td>30</td>\n",
       "      <td>27.032088</td>\n",
       "    </tr>\n",
       "    <tr>\n",
       "      <th>2</th>\n",
       "      <td>21</td>\n",
       "      <td>27.032088</td>\n",
       "    </tr>\n",
       "    <tr>\n",
       "      <th>3</th>\n",
       "      <td>76</td>\n",
       "      <td>69.633232</td>\n",
       "    </tr>\n",
       "    <tr>\n",
       "      <th>4</th>\n",
       "      <td>62</td>\n",
       "      <td>59.951153</td>\n",
       "    </tr>\n",
       "  </tbody>\n",
       "</table>\n",
       "</div>"
      ],
      "text/plain": [
       "   Actual  Predicted\n",
       "0      81  83.188141\n",
       "1      30  27.032088\n",
       "2      21  27.032088\n",
       "3      76  69.633232\n",
       "4      62  59.951153"
      ]
     },
     "execution_count": 22,
     "metadata": {},
     "output_type": "execute_result"
    }
   ],
   "source": [
    "# Comparing actual value VS predicted values\n",
    "data=pd.DataFrame({'Actual':y_test,'Predicted':y_pred})\n",
    "data"
   ]
  },
  {
   "cell_type": "markdown",
   "metadata": {},
   "source": [
    "We can see from the dataframe that model is pretty much accurate in predicting the scores of the students."
   ]
  },
  {
   "cell_type": "code",
   "execution_count": 23,
   "metadata": {},
   "outputs": [
    {
     "name": "stdout",
     "output_type": "stream",
     "text": [
      "No of Hours = [[9.25]]\n",
      "Predicted Score = 92.38611528261494\n"
     ]
    }
   ],
   "source": [
    "# Now we are going to find out if a student studied 9.25 hours a day how much score he will achieve.\n",
    "\n",
    "hours = np.array(9.25).reshape(-1,1)\n",
    "cust_pred = model.predict(hours)\n",
    "print(\"No of Hours = {}\".format(hours))\n",
    "print(\"Predicted Score = {}\".format(cust_pred[0]))"
   ]
  },
  {
   "cell_type": "markdown",
   "metadata": {},
   "source": [
    "## Model Evaluation\n",
    "\n",
    "The final step is to evaluate the performance of algorithm. This step is particularly important to compare how well different algorithms perform on a particular dataset. For simplicity here, we have chosen the mean square error, mean absolute error, R squared"
   ]
  },
  {
   "cell_type": "code",
   "execution_count": 24,
   "metadata": {},
   "outputs": [
    {
     "name": "stdout",
     "output_type": "stream",
     "text": [
      "Mean Square Error: 18.943211722315272\n",
      "Mean Absolute Error: 3.9207511902099244\n",
      "R Squared: 0.9678055545167994\n"
     ]
    }
   ],
   "source": [
    "print('Mean Square Error:',mean_squared_error(y_test,y_pred))\n",
    "print('Mean Absolute Error:',mean_absolute_error(y_test,y_pred))\n",
    "print('R Squared:',r2_score(y_test,y_pred))"
   ]
  },
  {
   "cell_type": "markdown",
   "metadata": {},
   "source": [
    "Here mean Square error and Mean Absolute error is very low so we can say that our model fit pretty accurate."
   ]
  },
  {
   "cell_type": "markdown",
   "metadata": {},
   "source": [
    "# 6. Experimentation"
   ]
  },
  {
   "cell_type": "markdown",
   "metadata": {},
   "source": [
    "Now we are going to find out the marks manually and also draw regression line."
   ]
  },
  {
   "cell_type": "markdown",
   "metadata": {},
   "source": [
    "## Now we find out marks using stats model"
   ]
  },
  {
   "cell_type": "code",
   "execution_count": 25,
   "metadata": {},
   "outputs": [],
   "source": [
    "import statsmodels.api as sm"
   ]
  },
  {
   "cell_type": "code",
   "execution_count": 26,
   "metadata": {},
   "outputs": [],
   "source": [
    "y=df['Scores']"
   ]
  },
  {
   "cell_type": "code",
   "execution_count": 27,
   "metadata": {},
   "outputs": [],
   "source": [
    "x1=df['Hours']"
   ]
  },
  {
   "cell_type": "code",
   "execution_count": 28,
   "metadata": {},
   "outputs": [],
   "source": [
    "x=sm.add_constant(x1)"
   ]
  },
  {
   "cell_type": "code",
   "execution_count": 29,
   "metadata": {},
   "outputs": [],
   "source": [
    "result=sm.OLS(y,x).fit()"
   ]
  },
  {
   "cell_type": "code",
   "execution_count": 30,
   "metadata": {},
   "outputs": [
    {
     "data": {
      "text/html": [
       "<table class=\"simpletable\">\n",
       "<caption>OLS Regression Results</caption>\n",
       "<tr>\n",
       "  <th>Dep. Variable:</th>         <td>Scores</td>      <th>  R-squared:         </th> <td>   0.953</td>\n",
       "</tr>\n",
       "<tr>\n",
       "  <th>Model:</th>                   <td>OLS</td>       <th>  Adj. R-squared:    </th> <td>   0.951</td>\n",
       "</tr>\n",
       "<tr>\n",
       "  <th>Method:</th>             <td>Least Squares</td>  <th>  F-statistic:       </th> <td>   465.8</td>\n",
       "</tr>\n",
       "<tr>\n",
       "  <th>Date:</th>             <td>Mon, 05 Apr 2021</td> <th>  Prob (F-statistic):</th> <td>9.13e-17</td>\n",
       "</tr>\n",
       "<tr>\n",
       "  <th>Time:</th>                 <td>19:35:56</td>     <th>  Log-Likelihood:    </th> <td> -77.514</td>\n",
       "</tr>\n",
       "<tr>\n",
       "  <th>No. Observations:</th>      <td>    25</td>      <th>  AIC:               </th> <td>   159.0</td>\n",
       "</tr>\n",
       "<tr>\n",
       "  <th>Df Residuals:</th>          <td>    23</td>      <th>  BIC:               </th> <td>   161.5</td>\n",
       "</tr>\n",
       "<tr>\n",
       "  <th>Df Model:</th>              <td>     1</td>      <th>                     </th>     <td> </td>   \n",
       "</tr>\n",
       "<tr>\n",
       "  <th>Covariance Type:</th>      <td>nonrobust</td>    <th>                     </th>     <td> </td>   \n",
       "</tr>\n",
       "</table>\n",
       "<table class=\"simpletable\">\n",
       "<tr>\n",
       "    <td></td>       <th>coef</th>     <th>std err</th>      <th>t</th>      <th>P>|t|</th>  <th>[0.025</th>    <th>0.975]</th>  \n",
       "</tr>\n",
       "<tr>\n",
       "  <th>const</th> <td>    2.4837</td> <td>    2.532</td> <td>    0.981</td> <td> 0.337</td> <td>   -2.753</td> <td>    7.721</td>\n",
       "</tr>\n",
       "<tr>\n",
       "  <th>Hours</th> <td>    9.7758</td> <td>    0.453</td> <td>   21.583</td> <td> 0.000</td> <td>    8.839</td> <td>   10.713</td>\n",
       "</tr>\n",
       "</table>\n",
       "<table class=\"simpletable\">\n",
       "<tr>\n",
       "  <th>Omnibus:</th>       <td> 7.616</td> <th>  Durbin-Watson:     </th> <td>   1.460</td>\n",
       "</tr>\n",
       "<tr>\n",
       "  <th>Prob(Omnibus):</th> <td> 0.022</td> <th>  Jarque-Bera (JB):  </th> <td>   2.137</td>\n",
       "</tr>\n",
       "<tr>\n",
       "  <th>Skew:</th>          <td>-0.216</td> <th>  Prob(JB):          </th> <td>   0.343</td>\n",
       "</tr>\n",
       "<tr>\n",
       "  <th>Kurtosis:</th>      <td> 1.634</td> <th>  Cond. No.          </th> <td>    13.0</td>\n",
       "</tr>\n",
       "</table><br/><br/>Notes:<br/>[1] Standard Errors assume that the covariance matrix of the errors is correctly specified."
      ],
      "text/plain": [
       "<class 'statsmodels.iolib.summary.Summary'>\n",
       "\"\"\"\n",
       "                            OLS Regression Results                            \n",
       "==============================================================================\n",
       "Dep. Variable:                 Scores   R-squared:                       0.953\n",
       "Model:                            OLS   Adj. R-squared:                  0.951\n",
       "Method:                 Least Squares   F-statistic:                     465.8\n",
       "Date:                Mon, 05 Apr 2021   Prob (F-statistic):           9.13e-17\n",
       "Time:                        19:35:56   Log-Likelihood:                -77.514\n",
       "No. Observations:                  25   AIC:                             159.0\n",
       "Df Residuals:                      23   BIC:                             161.5\n",
       "Df Model:                           1                                         \n",
       "Covariance Type:            nonrobust                                         \n",
       "==============================================================================\n",
       "                 coef    std err          t      P>|t|      [0.025      0.975]\n",
       "------------------------------------------------------------------------------\n",
       "const          2.4837      2.532      0.981      0.337      -2.753       7.721\n",
       "Hours          9.7758      0.453     21.583      0.000       8.839      10.713\n",
       "==============================================================================\n",
       "Omnibus:                        7.616   Durbin-Watson:                   1.460\n",
       "Prob(Omnibus):                  0.022   Jarque-Bera (JB):                2.137\n",
       "Skew:                          -0.216   Prob(JB):                        0.343\n",
       "Kurtosis:                       1.634   Cond. No.                         13.0\n",
       "==============================================================================\n",
       "\n",
       "Notes:\n",
       "[1] Standard Errors assume that the covariance matrix of the errors is correctly specified.\n",
       "\"\"\""
      ]
     },
     "execution_count": 30,
     "metadata": {},
     "output_type": "execute_result"
    }
   ],
   "source": [
    "result.summary()"
   ]
  },
  {
   "cell_type": "code",
   "execution_count": 31,
   "metadata": {},
   "outputs": [
    {
     "data": {
      "image/png": "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\n",
      "text/plain": [
       "<Figure size 432x288 with 1 Axes>"
      ]
     },
     "metadata": {
      "needs_background": "light"
     },
     "output_type": "display_data"
    }
   ],
   "source": [
    "# Plotting the regression line\n",
    "plt.scatter(x1,y)\n",
    "line=9.7758*x1+2.4837\n",
    "fig=plt.plot(x1,line,lw=2,c='orange',label='Regression Line')\n",
    "plt.xlabel('Hours',fontsize=15)\n",
    "plt.ylabel('Scores',fontsize=15)\n",
    "plt.show()"
   ]
  },
  {
   "cell_type": "markdown",
   "metadata": {},
   "source": [
    "### So if we now want to check the how many marks a student get when he study for 9.5 hour we can simply put coefficient value in the equation of regression."
   ]
  },
  {
   "cell_type": "code",
   "execution_count": 32,
   "metadata": {},
   "outputs": [],
   "source": [
    "marks=2.4837+9.7758*9.25"
   ]
  },
  {
   "cell_type": "code",
   "execution_count": 33,
   "metadata": {},
   "outputs": [
    {
     "name": "stdout",
     "output_type": "stream",
     "text": [
      "92.90985\n"
     ]
    }
   ],
   "source": [
    "print(marks)"
   ]
  },
  {
   "cell_type": "markdown",
   "metadata": {},
   "source": [
    "# Conclusion\n",
    "\n",
    "By seeing both ways we can see that by both ways we are getting almost same prediction when a student study for 9.25 hours a day that is 92% marks."
   ]
  },
  {
   "cell_type": "code",
   "execution_count": null,
   "metadata": {},
   "outputs": [],
   "source": []
  }
 ],
 "metadata": {
  "kernelspec": {
   "display_name": "Python 3",
   "language": "python",
   "name": "python3"
  },
  "language_info": {
   "codemirror_mode": {
    "name": "ipython",
    "version": 3
   },
   "file_extension": ".py",
   "mimetype": "text/x-python",
   "name": "python",
   "nbconvert_exporter": "python",
   "pygments_lexer": "ipython3",
   "version": "3.8.5"
  }
 },
 "nbformat": 4,
 "nbformat_minor": 4
}
